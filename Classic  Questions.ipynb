{
 "cells": [
  {
   "cell_type": "markdown",
   "metadata": {},
   "source": [
    " \n",
    "104. Maximum Depth of Binary Tree (Easy)\n",
    "110. Balanced Binary Tree (Easy)\n",
    "226. Invert Binary Tree (Easy)\n",
    "101. Symmetric Tree (Easy)\n",
    "111. Minimum Depth of Binary Tree (Easy)\n",
    " 搞定一个就行，基本放弃"
   ]
  },
  {
   "cell_type": "markdown",
   "metadata": {},
   "source": [
    "## Climbing Stairs---Dynamic Programming\n",
    "Both dynamic programming and recursion都是将原问题拆成多个子问题然后求解,动态规划保存了子问题的解，避免重复计算。"
   ]
  },
  {
   "cell_type": "code",
   "execution_count": 8,
   "metadata": {},
   "outputs": [
    {
     "data": {
      "text/plain": [
       "8"
      ]
     },
     "execution_count": 8,
     "metadata": {},
     "output_type": "execute_result"
    }
   ],
   "source": [
    "def climbStairs(n):\n",
    "    \n",
    "        s1 = 1  # 爬到1楼只有1种方法\n",
    "        s2 = 2  # 爬到2楼有两种方法\n",
    "        sn = 0   \n",
    "        for i in range(3, n+1):  # 从3楼开始算\n",
    "            sn = s1 + s2      \n",
    "            s1 = s2   \n",
    "            s2 = sn\n",
    "        \n",
    "        return sn\n",
    "            \n",
    "climbStairs(5) "
   ]
  },
  {
   "cell_type": "markdown",
   "metadata": {},
   "source": [
    "## Maximum Subarray---Dynamic Programming\n",
    "整数数组mylist，找到一个具有最大和的连续子数组，返回最大和。\n",
    "For example, given the array [-2,1,-3,4,-1,2,1,-5,4],\n",
    "the contiguous subarray [4,-1,2,1] has the largest sum = 6."
   ]
  },
  {
   "cell_type": "code",
   "execution_count": null,
   "metadata": {},
   "outputs": [],
   "source": [
    "def maxSubArray(mylist):\n",
    "\n",
    "    length = len(mylist)\n",
    "    dp= [0]*length \n",
    "    dp[0]=mylist[0]   #dp[i]表示以dp[i]结尾的连续数组的最大和\n",
    "    for i in range(1, length):\n",
    "        dp[i] = max(mylist[i], mylist[i] + dp[i-1])\n",
    "        \n",
    "    return max(dp)\n",
    "    \n",
    "maxSubArray([-2,1,-3,4,-1,2,1,-5,4])"
   ]
  },
  {
   "cell_type": "markdown",
   "metadata": {},
   "source": [
    "## 买卖股票的最佳时机------Dynamic Programming\n",
    "\n",
    "输入: [7,1,5,3,6,4]\n",
    "输出: 5\n",
    "min_ 第i个元素及之前的元素中最小值\n",
    "dp[i]截止到第i个元素，只进行一次买卖收益的最大值。"
   ]
  },
  {
   "cell_type": "code",
   "execution_count": 96,
   "metadata": {},
   "outputs": [
    {
     "data": {
      "text/plain": [
       "5"
      ]
     },
     "execution_count": 96,
     "metadata": {},
     "output_type": "execute_result"
    }
   ],
   "source": [
    "def maxProfit(prices):\n",
    "    length=len(prices)\n",
    "    dp=[0]*length\n",
    "    min_ = prices[0]\n",
    "    \n",
    "    for i in range(1,length):\n",
    "        min_=min(prices[i],min_)\n",
    "        dp[i]=max(dp[i],prices[i]-min_)\n",
    "\n",
    "    return max(dp)\n",
    "\n",
    "maxProfit( [7,1,5,3,6,4])\n"
   ]
  },
  {
   "cell_type": "markdown",
   "metadata": {},
   "source": [
    "## Maximum-product-subarray\n",
    "有正、负号\n",
    "请你找出数组中乘积最大的连续子数组"
   ]
  },
  {
   "cell_type": "code",
   "execution_count": null,
   "metadata": {},
   "outputs": [],
   "source": [
    "def maxProduct(mylist):\n",
    "#这里不能将mylist直接赋值给dpmax和dpmin，如果他们同时指向mylist，而dpmax改动后，dpmin也会改动，就会造成dpmax随着dpmin改动而改动\n",
    "    l = len(mylist)\n",
    "\n",
    "    dpmax = [0]*l\n",
    "    dpmin = [0]*l\n",
    "    dpmax[0] = mylist[0]\n",
    "    dpmin[0] = mylist[0]    \n",
    "    for i in range(1, l):\n",
    "        dpmax[i] = max(mylist[i], mylist[i] * dpmax[i - 1], mylist[i] * dpmin[i - 1])\n",
    "        dpmin[i] = min(mylist[i], mylist[i] * dpmax[i - 1], mylist[i] * dpmin[i - 1])\n",
    "        \n",
    "    return max(dpmax)\n",
    "\n",
    "maxProduct([-2,1,-3,4,-1,5,1])"
   ]
  },
  {
   "cell_type": "markdown",
   "metadata": {},
   "source": [
    "找出自顶向下的最小路径和。每一步只能移动到下一行中相邻的结点上。---dynamic programming\n",
    " \n",
    "     [2],\n",
    "    [3,4],\n",
    "   [6,5,7],\n",
    "  [4,1,8,3]\n",
    "  \n",
    " num[3]=[4,1,8,3]\n",
    " num[2]=[6,5,7]\n",
    "start from the last row, find the smallest path from the last row to the second last row \n",
    "\n",
    "\n",
    "分几种情况，如果是最后一行第一个元素  \n",
    "    min_=num[3][i]+num[2][i]\n",
    "如果是最后一行最后一个元素  \n",
    "    min_=min(min_, num[3][i]+num[2][i-1])\n",
    "else:  \n",
    "    min_=min(min_,num[3][i]+num[2][i],num[3][i]+num[2][i-1] )\n",
    "\n",
    "row--, strat from the second last row and repeat the process"
   ]
  },
  {
   "cell_type": "markdown",
   "metadata": {},
   "source": [
    "给定一个无序的整数数组，找到其中最长上升子序列的长度。  \n",
    "[10,9,2,5,3,7,101,18]最长连续上升序列[3,7,101]，长度是3  \n",
    "可能会有多个最长的上升子序列，只关注长度  \n",
    "**变种**  \n",
    "最长非连续上升序列[2,3,7,101]\n",
    "\n",
    "    def lengthOfLIS(mylist) :\n",
    "        if len(mylist) <= 1:\n",
    "            return len(mylist)\n",
    " \n",
    "        dp = [1] * len(mylist)\n",
    "        max_lis = 0\n",
    "\n",
    " \n",
    "        for i in range(1, len(mylist)):  # 对于当前i，在他之前的数中找到一个数是小于他的，那么他的序列长度可以+1\n",
    "            for j in range(i): # 在(mylist[0], mylist[i-1])范围内找到一个数mylist[j]<mylist[i]\n",
    " \n",
    "                if mylist[j] < mylist[i]:\n",
    "                    dp[i] = max(dp[i], dp[j] + 1)  # 更新\n",
    "                \n",
    "            # 更新最大值\n",
    "            max_lis = max(dp[i], max_lis)\n",
    "        \n",
    "        return max_lis"
   ]
  },
  {
   "cell_type": "code",
   "execution_count": 6,
   "metadata": {},
   "outputs": [
    {
     "data": {
      "text/plain": [
       "3"
      ]
     },
     "execution_count": 6,
     "metadata": {},
     "output_type": "execute_result"
    }
   ],
   "source": [
    "def MaxSubLen(mylist):\n",
    "    length=len(mylist)\n",
    "\n",
    "    dp=[1]*length\n",
    "    for i in range(1, length):\n",
    "        if mylist[i]>mylist[i-1]:\n",
    "            dp[i]=dp[i]+dp[i-1]\n",
    "     \n",
    "    return max(dp)\n",
    "\n",
    "MaxSubLen([10,9,2,5,3,7,101,18])"
   ]
  },
  {
   "cell_type": "markdown",
   "metadata": {},
   "source": [
    " ##  Best Time to Buy and Sell Stock II ()---Greedy\n",
    "比较相邻的两个元素。设置总利润为0\n",
    "如果后面的元素大于前面的元素，把差值加入到总利中\n",
    "如果后面的元素小于前面的，就放弃交易，进入下一轮"
   ]
  },
  {
   "cell_type": "code",
   "execution_count": null,
   "metadata": {},
   "outputs": [],
   "source": [
    "def maxProfit(prices):\n",
    "    dp = 0\n",
    "        for i in range(1,len(prices)):\n",
    "            if prices[i]>prices[i-1]:\n",
    "                dp =dp+ (prices[i]-prices[i-1])\n",
    "    return dp"
   ]
  },
  {
   "cell_type": "markdown",
   "metadata": {},
   "source": [
    "## Bianray search\n",
    "常见的二分查找通常在左闭右闭区间[left,right]范围内进行搜索，循环条件为left<right，左边界更新为left = mid + 1，右边界更新为right = mid - 1。\n",
    "#### 有序数据+数组\n",
    " int sqrt(int x) 函数"
   ]
  },
  {
   "cell_type": "code",
   "execution_count": null,
   "metadata": {},
   "outputs": [],
   "source": [
    "def mySqrt(x):\n",
    "    if x==0 or x==1:\n",
    "        return x\n",
    "    left = 1\n",
    "    right = x // 2 + 1\n",
    "    while left < right:\n",
    "        i = (right +left) // 2\n",
    "        \n",
    "        if i**2 == x:\n",
    "            return i\n",
    "        elif i ** 2 <x and (i + 1) ** 2 >x:  #当找不到这样的整数，平方根是小数的时候,返回一个特殊值\n",
    "            return 0.001\n",
    "        \n",
    "        elif i**2 < x:\n",
    "            left = i + 1\n",
    "        else:\n",
    "            right = i-1\n",
    "    return left - 1\n",
    "\n",
    "mySqrt(5)"
   ]
  },
  {
   "cell_type": "markdown",
   "metadata": {},
   "source": [
    "##  旋转数组---binary search\n",
    "升序排序的数组在某个点上进行了旋转。数组 [0,1,2,4,5,6,7] 在4处旋转后变为 [4,5,6,7,0,1,2] 我们面对的就是后面的数组。  \n",
    "找出其中最小的元素\n",
    "\n",
    "1.找到中间数  \n",
    "2.如果中间数的前一位>中间数，中间数就是最小值    \n",
    "3.如果中间数< 最后一个数,说明(中间数， 最后一个数)是一个升序序列，则切换到前半部分查找，即right=middle-1  \n",
    "4.否则，切换到后半部分，left=middle+1  "
   ]
  },
  {
   "cell_type": "code",
   "execution_count": 4,
   "metadata": {},
   "outputs": [
    {
     "data": {
      "text/plain": [
       "0"
      ]
     },
     "execution_count": 4,
     "metadata": {},
     "output_type": "execute_result"
    }
   ],
   "source": [
    "def findMin(nums):\n",
    "\n",
    "    if not nums: #处理0个元素\n",
    "        return 0\n",
    "    if len(nums) == 1: #处理1个元素\n",
    "        return nums[0]\n",
    "        \n",
    "    if nums[0] < nums[-1]: #没发生旋转\n",
    "        return nums[0]\n",
    "        \n",
    "    left, right = 0, len(nums) - 1\n",
    "    while left <= right:\n",
    "        mid = (left + right) // 2  #中间数\n",
    "            \n",
    "        if nums[mid - 1] > nums[mid]:  #找到了\n",
    "            return nums[mid]\n",
    "\n",
    "                \n",
    "        if nums[mid] < nums[-1]: #(mid, 最后一位)这是个升序序列，所以应该切换到前一个序列中去\n",
    "            right = mid - 1\n",
    "        else: #(mid, 最后一位)这是个杂序序列，所以应该切换到这个序列中去\n",
    "            left = mid + 1\n",
    "\n",
    "findMin([4,5,6,7,0,1,2])"
   ]
  },
  {
   "cell_type": "markdown",
   "metadata": {},
   "source": [
    "矩阵每行中的整数从左到右按升序排列。  每行的第一个整数大于前一行的最后一个整数。  查找矩阵中是否存在target?\n",
    "扫描矩阵的每行matrix[i][0],二分法，找到target所在的matrix[j]\n",
    "在matrix[j]中，二分法找target matrix[j][k]==target"
   ]
  },
  {
   "cell_type": "markdown",
   "metadata": {},
   "source": [
    "## Two Sum---Double pointer\n",
    "在有序整数数组nums中找出和为target的那两个整数，返回下标。return [left + 1, right + 1] 或者return [left, right] \n",
    "变种\n",
    "1.三数之和问题就转化为一个数和two sum的两数问题。\n",
    "2.判断一个数是否为两个整数的平方和。\n",
    "在(0，sqrt(target))区间里找，左右指针，检查平方和是否为target."
   ]
  },
  {
   "cell_type": "code",
   "execution_count": 81,
   "metadata": {},
   "outputs": [
    {
     "data": {
      "text/plain": [
       "[1, 5]"
      ]
     },
     "execution_count": 81,
     "metadata": {},
     "output_type": "execute_result"
    }
   ],
   "source": [
    "def twoSum(mylist, target):\n",
    "    \n",
    "    mylist.sort()\n",
    "    left, right = 0, len(mylist) - 1\n",
    "    \n",
    "    while left<right:\n",
    "        sum_= mylist[left] + mylist[right]\n",
    "        if sum_ == target: #找到两个数之和==target\n",
    "            return [left + 1, right + 1]  \n",
    "        elif sum_ < target:\n",
    "                left += 1\n",
    "        elif sum_ > target:\n",
    "            right -= 1\n",
    "     \n",
    "    return [0,0]  #如果找不到这样的两个数\n",
    "    \n",
    "twoSum([3,6,8,9,12], 15)"
   ]
  },
  {
   "cell_type": "code",
   "execution_count": null,
   "metadata": {},
   "outputs": [],
   "source": [
    " nums.sort()\n",
    "        l = len(nums)\n",
    "        res = []\n",
    "        for i, a in enumerate(nums):\n",
    "            if i == 0 or nums[i] > nums[i - 1]:\n",
    "            #开始双指针\n",
    "                left, right = i + 1, len(nums) - 1\n",
    "                while(left < right):\n",
    "                    s = a +  nums[left] + nums[right]\n",
    "                    if s == 0:\n",
    "                        tmp = [a, nums[left], nums[right]]\n",
    "                        res.append(tmp)\n",
    "                        left += 1\n",
    "                        right -= 1\n",
    "                        while left < right and nums[left] == nums[left - 1]:\n",
    "                            left += 1\n",
    "                        while right > left and nums[right] == nums[right + 1]:\n",
    "                            right -= 1\n",
    "                    elif s < 0:\n",
    "                        left += 1\n",
    "                    elif s > 0:\n",
    "                        right -= 1\n",
    "        return res"
   ]
  },
  {
   "cell_type": "markdown",
   "metadata": {},
   "source": [
    "##  Palindrome Number---string\n",
    "方法1：一个数字x 是否是回文数是指正序（从左向右）和倒序（从右向左）读都是一样的整数。\n",
    "x通过%，//求  quotient和remainder， 得到反转后的number  \n",
    "方法2：转换为string然后比较"
   ]
  },
  {
   "cell_type": "code",
   "execution_count": null,
   "metadata": {},
   "outputs": [],
   "source": [
    "def isPalindrome(x):\n",
    "\n",
    "    if x < 0:\n",
    "        return False\n",
    " \n",
    "    xx = x\n",
    "    reverse = 0\n",
    "    while x > 0:\n",
    "        tmp=x%10   #一定要先求余数\n",
    "        x=x//10\n",
    "        reverse = reverse * 10 + tmp\n",
    "\n",
    "    return reverse == xx\n",
    "\n",
    "isPalindrome(5331)"
   ]
  },
  {
   "cell_type": "markdown",
   "metadata": {},
   "source": [
    "## Palindrome string---double pointer\n",
    "一个字符串s(包括数字，字母，符号，空格），只考虑字母和数字字符，验证它是否是回文串。\n",
    "转换为小写，去除杂字符  \n",
    "令一个指针从左到右遍历，一个指针从右到左遍历，这两个指针同时移动一个位置，每次都判断两个指针指向的字符是否相同，如果都相同，字符串才是具有左右对称性质的回文字符串。  \n",
    "**变种1**  \n",
    "如果字符串中，从头开始，从尾开始遇到元音字母，则交换位置---双指针  \n",
    "**变种2**  \n",
    "给定两个有序整数数组 nums1 和 nums2，将 nums2 合并到 nums1 中，使得 num1 成为一个有序数组。    \n",
    "双指针p1, p2，分别指向nums1和nums2的起点。  \n",
    "初始化temp = [], 比较nums1[p1]和nums2[p2]的大小，把小的temp.append()里，并且指针后移一位\n",
    "当p1 或者 p2指向结尾的时候，把剩下的元素都temp.append到temp里  \n",
    "最后根据题目要求把temp里的元素复制到nums1。  \n",
    "\n",
    "**变种3**   \n",
    "删除一个字符，判断是否能构成回文字符串。 \n",
    "\n",
    "双指针遍历字符串时，如果两个字符相等，则两个指针都移动\n",
    "如果不相等，我们就试着删除一个字符，再判断删除完之后的字符串是否是回文字符串。  \n",
    "                str_left=s[:i]+s[i+1:]  #删除左指针指向的字符s[i]  \n",
    "                if str_left==str_left[::-1]: #判断是否是回文  \n",
    "                    return True  \n",
    "                str_right=s[:j]+s[j+1:]   #删除右指针指向的字符s[j]    \n",
    "                if str_right==str_right[::-1]:   \n",
    "                    return True  \n",
    "                return False  \n",
    "因为左指针左边和右指针右边的字符之前已经判断过具有对称性质，所以只需要判断中间的子字符串即可。  "
   ]
  },
  {
   "cell_type": "code",
   "execution_count": 3,
   "metadata": {},
   "outputs": [
    {
     "name": "stdout",
     "output_type": "stream",
     "text": [
      "aabaa\n"
     ]
    },
    {
     "data": {
      "text/plain": [
       "True"
      ]
     },
     "execution_count": 3,
     "metadata": {},
     "output_type": "execute_result"
    }
   ],
   "source": [
    "def isPalindrome(ss):\n",
    "    ss=ss.lower()   #去除其他字符，全部变为小写\n",
    " \n",
    "    s=''\n",
    "    for i in ss:\n",
    "        if i.isalnum():\n",
    "            s=s+i\n",
    "\n",
    "    left, right = 0, len(s)-1\n",
    "    while left < right:\n",
    "        if s[left]!=s[right]:  #s[left]不是字母也不是数字，left=left+1\n",
    "            return False  \n",
    "         \n",
    "        left=left+1\n",
    "        right=right-1\n",
    "           \n",
    "    return True\n",
    "isPalindrome('Aabaa')"
   ]
  },
  {
   "cell_type": "code",
   "execution_count": null,
   "metadata": {},
   "outputs": [],
   "source": [
    "def validPalindrome(s):\n",
    "    left=0\n",
    "    right=len(s)-1\n",
    "    while left<right:\n",
    "        if s[left]==s[j]:\n",
    "            left+=1\n",
    "            right-=1\n",
    "        else:\n",
    "            s1=s[:left]+s[left+1:]  #删除左指针指向的字符s[i]\n",
    "            if s1==s1[::-1]:  #判断是否是回文\n",
    "                return True\n",
    "            s2=s[:right]+s[right+1:]\n",
    "            if s2==s2[::-1]:\n",
    "                return True\n",
    "            return False\n",
    "    return True"
   ]
  },
  {
   "cell_type": "markdown",
   "metadata": {},
   "source": [
    "## longest-palindrome\n",
    "给定一个字符串 s，找到 s 中最长的回文子串。你可以假设 s 的最大长度为 1000"
   ]
  },
  {
   "cell_type": "code",
   "execution_count": null,
   "metadata": {},
   "outputs": [],
   "source": [
    " def longestPalindrome(self, s):\n",
    " \n",
    "        max_l = 0\n",
    "        res = \"\"\n",
    "        for i in range(0, len(s)):\n",
    "            #以s[i] 为中心向左右扩散\n",
    "            left, right = i, i\n",
    "            while(left >= 0 and right < len(s) and s[left] == s[right]):\n",
    "                if max_l < right - left + 1:\n",
    "                    max_l = right - left + 1\n",
    "                    res = s[left:right + 1]\n",
    "                left -= 1\n",
    "                right += 1\n",
    "                        \n",
    "            #以s[i],s[i+1]为中心向左右扩散\n",
    "            left, right = i, i + 1\n",
    "            while(left >= 0 and right < len(s) and s[left] == s[right]):\n",
    "                if max_l < right - left + 1:\n",
    "                    max_l = right - left + 1\n",
    "                    res = s[left:right + 1]\n",
    "                left -= 1\n",
    "                right += 1            \n",
    "        return res\n",
    " "
   ]
  },
  {
   "cell_type": "markdown",
   "metadata": {},
   "source": [
    "## binary-number-with-alternating-bits\n",
    "\n",
    "给定一个正整数，检查他二进制数是不是01010101或者1010101\n",
    "思路：记录一下前一位，每次跟前一位比较就好了。"
   ]
  },
  {
   "cell_type": "markdown",
   "metadata": {},
   "source": [
    "## longest-substring-without-repeating-characters---Dict\n",
    "给定一个字符串，请你找出其中不含有重复字符的 最长子串的长度\n",
    "“adbefghba”，当第二个字符b出现时，start移动到第一个字符b处，但移动到第二字符a时，难道因为a出现过一次，就要将起点移动到第一个字符a？显然不是，所以，出现重复时一定要是在起点之后，才能更新起点。\n"
   ]
  },
  {
   "cell_type": "code",
   "execution_count": 71,
   "metadata": {},
   "outputs": [
    {
     "data": {
      "text/plain": [
       "5"
      ]
     },
     "execution_count": 71,
     "metadata": {},
     "output_type": "execute_result"
    }
   ],
   "source": [
    "def lengthOfLongestSubstring(s):\n",
    "    \n",
    "\n",
    "        mydict = dict()#记录每个字母最后一次出现的下标,key是字母，val是下标\n",
    "        maxlen, start = 0, 0\n",
    "        \n",
    "        for i in range(len(s)):\n",
    "            value=s[i]\n",
    "            \n",
    "            if value in mydict:#值出现过\n",
    "                start = max(start, mydict[value] + 1) #这个值最近一次出现的位置存入mydict\n",
    "                \n",
    "            mydict[value] = i #这个值出现的位置，存入字典\n",
    "            \n",
    "            maxlen = max(maxlen, i - start + 1)  #刷新最新长度子串的长度    \n",
    "            \n",
    "        return maxlen\n",
    "    \n",
    "lengthOfLongestSubstring('pwamwkew')\n"
   ]
  },
  {
   "cell_type": "markdown",
   "metadata": {},
   "source": [
    "## degree-of-an-array\n",
    "mylist里任一元素出现次数的最大值为mylist的degree。  \n",
    "出现次数最大的值的元素的距离最小的，返回长度\n",
    "\n",
    "找到最短连续子数组，这个数组的degree就是整个数组的degree,返回其长度。  \n",
    "1.遍历数组，并用哈希表计算每个数字出现的次数。  \n",
    "2.求哈希表中值得最大，即为数组的degree。  \n",
    "3.遍历mylist,通过字典找到对应的次数等于degree的才处理。第一次找到记录一个位置i,从后往前找找到第一次出现的位置为j\n",
    "j-i+1就是长度，不断更新，找到最小的长度的"
   ]
  },
  {
   "cell_type": "code",
   "execution_count": null,
   "metadata": {},
   "outputs": [],
   "source": [
    "def findShortestSubArray(mylist):\n",
    "    d = {}\n",
    "    for i in mylist:  #将数字出现的次数存入d中\n",
    "        if i in d.keys():\n",
    "            d[i]=d[i]+1\n",
    "        else:\n",
    "            d[i]=0\n",
    "                \n",
    "    degree = max(d.values())\n",
    "    if degree == 1:\n",
    "        return 1\n",
    "    \n",
    "    res = inf\n",
    "    n = len(mylist)\n",
    "    \n",
    "    for key, value in d.items():\n",
    "        if value == degree: #找到度为最小值的\n",
    "            i = 0\n",
    "            \n",
    "            while mylist[i] != key:  #找到度为最小值的第一个位置i\n",
    "                 i += 1\n",
    "                j = n-1\n",
    "            while mylist[j] != key: # \n",
    "                j -= 1\n",
    "\n",
    "            min_ =min(j-i+1, min_) \n",
    "    return min_"
   ]
  },
  {
   "cell_type": "markdown",
   "metadata": {},
   "source": [
    "231-power-of-two   \n",
    "判断一个整数是否是 2 的幂次方。\n",
    "convert to binary numbers，一定是1+零个或者若干个0\n",
    "342-power-of-four4\n",
    "convert to binary numbers，一定是1010100，偶数个"
   ]
  },
  {
   "cell_type": "code",
   "execution_count": null,
   "metadata": {},
   "outputs": [],
   "source": [
    "def isPowerOfTwo(n):\n",
    "    \n",
    "    s = bin(num).replace('0b','')\n",
    "    l = len(s)\n",
    "    if s == ('1' + '0' * (l - 1)):   #Regular Expression，是10000\n",
    "        return True\n",
    "    else:\n",
    "        return False\n",
    "\n",
    "\n",
    "def isPowerOfFour(num):\n",
    "    s = bin(num).replace('0b','')\n",
    "    l = len(s)\n",
    "    if s == ('1' + '0' * (l - 1)) and l % 2 == 1:   #Regular Expression\n",
    "        return True\n",
    "    else:\n",
    "        return False"
   ]
  },
  {
   "cell_type": "markdown",
   "metadata": {},
   "source": [
    "## longest-harmonious-subsequence---dict\n",
    "一个数组里元素的最大值和最小值之间的差别正好是1。数组的元素可以打乱顺序，求这样的子数组的长度\n",
    "确定每个元素在数组出现过的次数保存在dict中\n",
    "遍历数组nums，记录x和x+1在数组中出现的次数和\n",
    "不断更新这个和，找到最大的和"
   ]
  },
  {
   "cell_type": "code",
   "execution_count": 102,
   "metadata": {},
   "outputs": [
    {
     "data": {
      "text/plain": [
       "5"
      ]
     },
     "execution_count": 102,
     "metadata": {},
     "output_type": "execute_result"
    }
   ],
   "source": [
    "def findLHS(mylist1):\n",
    "    mydict = {}\n",
    "    mylist=sorted(mylist1)\n",
    " \n",
    "    \n",
    "    for i in mylist:  #将数字及其出现次数，存入mydict\n",
    "        if i in mydict.keys():\n",
    "            mydict[i] = mydict[i] + 1\n",
    "        else:\n",
    "            mydict[i] = 1\n",
    " \n",
    "            \n",
    "    max_ = 0\n",
    "    \n",
    "    for i in mylist:\n",
    "        if i+1 in mydict.keys():\n",
    "            max_ = max(mydict[i]+mydict[i+1], max_)\n",
    "    return max_\n",
    "\n",
    "findLHS([9,3,4,1,3,4,5,4])"
   ]
  },
  {
   "cell_type": "markdown",
   "metadata": {},
   "source": [
    "一个整数数组是否存在重复元素。  \n",
    "方法1：排序，看相邻元素会不会相等  \n",
    "方法2：转set  "
   ]
  },
  {
   "cell_type": "markdown",
   "metadata": {},
   "source": [
    "## Median-of-two-sorted-arrays\n",
    "给定两个大小为 m 和 n 的有序数组 nums1 和 nums2。寻找两个有序数组的中位数\n",
    " \n",
    "合并两个数组，排序\n",
    "当数组长度为奇数时，中位数为中间的那个数，\n",
    "当数组长度为偶数时，中位数为中间的两个数的平均。"
   ]
  },
  {
   "cell_type": "code",
   "execution_count": null,
   "metadata": {},
   "outputs": [],
   "source": [
    "def findMedianSortedArrays(mylist1, mylist2):\n",
    "    newlist = sorted(mylist1 + mylist2)\n",
    "    length = len(newlist)\n",
    "    if length % 2 == 1:  #\n",
    "        return float(newlist[length // 2])\n",
    "    else:\n",
    "        return (newlist[length // 2] + newlist[length // 2 - 1]) / 2"
   ]
  },
  {
   "cell_type": "markdown",
   "metadata": {},
   "source": [
    "33-search-in-rotated-sorted-array搜索旋转排序数组"
   ]
  },
  {
   "cell_type": "markdown",
   "metadata": {},
   "source": [
    "## 111-minimum-depth-of-binary-tree"
   ]
  },
  {
   "cell_type": "code",
   "execution_count": null,
   "metadata": {},
   "outputs": [],
   "source": [
    "def minDepth(root):\n",
    "        # 如果根节点不存在，直接返回树高度为0\n",
    "    if not root:\n",
    "        return 0\n",
    "        # 分别递归获取左右字树木的高度\n",
    "    left_depth, right_depth = 0, 0\n",
    "    left_depth = self.minDepth(root.left)\n",
    "    right_depth = self.minDepth(root.right)\n",
    "        \n",
    "    if (root.left == None) or (root.right == None):\n",
    "        return left_depth + right_depth + 1;\n",
    "        # 正常的树就获取最小高度 + 根节点记录为1\n",
    "    return 1 + min(left_depth, right_depth);"
   ]
  },
  {
   "cell_type": "markdown",
   "metadata": {},
   "source": [
    "## add-two-numbers ---link node\n",
    "给出两个 非空 的链表用来表示两个非负的整数。其中，它们各自的位数是按照 逆序 的方式存储的，并且它们的每个节点只能存储 一位 数字。\n",
    "如果，我们将这两个数相加起来，则会返回一个新的链表来表示它们的和。\n",
    "您可以假设除了数字 0 之外，这两个数都不会以 0 开头。"
   ]
  },
  {
   "cell_type": "code",
   "execution_count": null,
   "metadata": {},
   "outputs": [],
   "source": [
    "def addTwoNumbers(self, l1, l2):\n",
    "\n",
    "        if self.getLength(l1) < self.getLength(l2): #保证l1永远比l2更长\n",
    "            l1, l2 = l2, l1\n",
    "            \n",
    "        head = l1   \n",
    "        while(l2):#执行加法\n",
    "            l1.val += l2.val\n",
    "            l1 = l1.next\n",
    "            l2 = l2.next\n",
    "        \n",
    "        p = head\n",
    "        while(p):#处理进位\n",
    "            if p.val > 9:\n",
    "                p.val -= 10\n",
    "                if p.next:\n",
    "                    p.next.val += 1\n",
    "                else:\n",
    "                    p.next = ListNode(1)\n",
    "            p = p.next\n",
    "                    \n",
    "        return head\n",
    "        \n",
    "        \n",
    "    def getLength(self, l):#计算链表长度\n",
    "        length = 0\n",
    "        while(l):\n",
    "            length += 1\n",
    "            l = l.next\n",
    "        return length"
   ]
  }
 ],
 "metadata": {
  "kernelspec": {
   "display_name": "Python 3",
   "language": "python",
   "name": "python3"
  },
  "language_info": {
   "codemirror_mode": {
    "name": "ipython",
    "version": 3
   },
   "file_extension": ".py",
   "mimetype": "text/x-python",
   "name": "python",
   "nbconvert_exporter": "python",
   "pygments_lexer": "ipython3",
   "version": "3.7.6"
  }
 },
 "nbformat": 4,
 "nbformat_minor": 4
}
